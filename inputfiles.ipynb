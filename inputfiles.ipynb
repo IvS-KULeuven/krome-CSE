{
 "cells": [
  {
   "cell_type": "code",
   "execution_count": 18,
   "metadata": {},
   "outputs": [],
   "source": [
    "import numpy as np\n",
    "import sys\n",
    "\n",
    "sys.path.insert(1, '/STER/silkem/MACE/')\n",
    "import src.mace.CSE_0D.dataset          as ds\n",
    "import src.mace.utils               as utils\n",
    " \n",
    "specs_dict, idx_specs = utils.get_specs()\n",
    "\n",
    "\n",
    "loc = '/STER/silkem/kromeCSE/data/'\n",
    "\n",
    "%reload_ext autoreload\n",
    "%autoreload 2"
   ]
  },
  {
   "cell_type": "code",
   "execution_count": 21,
   "metadata": {},
   "outputs": [],
   "source": [
    "def write_input(loc, name, i, dens, temp, delta, Av, tfin, tstart):\n",
    "    with open(f\"{loc}{name}/input/{i}.in\", \"w\") as file:\n",
    "                file.write(f\"\"\"DN = {dens}\n",
    "TEMP = {temp}\n",
    "RAD = {delta}\n",
    "AV = {Av}\n",
    "TFINAL = {tfin}\n",
    "TSTART = {tstart}\n",
    "FPARENTS = '{loc}{name}/abs/abs_{i}.txt'\n",
    "FOUT = '{loc}{name}/abs/abs_{i+1}.txt'\n",
    "dir = '{loc}{name}/out/k{i}.txt'\n",
    "idx = '{i}'\n",
    "\"\"\"\n",
    ")\n",
    "\n",
    "# def write_abs(loc, path, i, abs):\n",
    "#     # with open(f\"{loc}out/{path}/time.out\", \"w\") as file:\n",
    "#     #     file.write('')\n",
    "#     with open(f\"{loc}rates/{path}/CSEcode/abs_{i}.txt\", \"w\") as file:\n",
    "#         for j in range(len(abs)):\n",
    "#             file.write(f\"{idx_specs[j]} {abs[j]}\\n\")"
   ]
  },
  {
   "cell_type": "code",
   "execution_count": 12,
   "metadata": {},
   "outputs": [],
   "source": [
    "# path = '/lhome/silkem/CHEM/Output_nov2022/20211014_gridC_Mdot1e-6_v12-5_T_eps/models/model_2022-12-23h11-00-25/csfrac_smooth.out'\n",
    "path = '/lhome/silkem/CHEM/Output_nov2022/20211015_gridC_Mdot1e-6_v17-5_T_eps/models/model_2022-12-24h17-06-51/csfrac_smooth.out'\n",
    "# path = '/lhome/silkem/CHEM/Output_nov2022/20211014_gridC_Mdot2e-8_v2-5_T_eps/models/model_2022-12-26h16-02-06/csfrac_smooth.out'\n",
    "\n",
    "# path = '/lhome/silkem/CHEM/Output_nov2022/20210527_gridC_Mdot5e-5_v22-5_T_eps/models/model_2022-12-27h11-01-25/csfrac_smooth.out'"
   ]
  },
  {
   "cell_type": "code",
   "execution_count": 22,
   "metadata": {},
   "outputs": [
    {
     "name": "stdout",
     "output_type": "stream",
     "text": [
      "20211015_gridC_Mdot1e-6_v17-5_T_eps_model_2022-12-24h17-06-51\n"
     ]
    }
   ],
   "source": [
    "mod = ds.CSEmod(path)\n",
    "# mod.get_path(), mod.get_name(), mod.model\n",
    "name = mod.model+'_'+mod.get_name()\n",
    "print(name)\n",
    "\n",
    "dens, temp, delta, Av = mod.get_phys()\n",
    "dt = mod.get_dt()\n",
    "abs = mod.get_abs()\n",
    "\n",
    "# print(abs)\n",
    "\n",
    "i = 0\n",
    "# print(dens[i], temp[i], delta[i], Av[i], dt[0], abs[0].shape)\n",
    "utils.makeOutputDir(loc+name+'/')\n",
    "\n",
    "utils.makeOutputDir(loc+name+'/input/')\n",
    "utils.makeOutputDir(loc+name+'/abs/')\n",
    "utils.makeOutputDir(loc+name+'/out/')\n",
    "\n",
    "\n",
    "for i in range(1,len(dt)):\n",
    "    write_input(loc, name, i, dens[i-1], temp[i-1], delta[i-1], Av[i-1], dt[i], dt[i-1])\n",
    "\n",
    "    # write_abs(loc, name, i, abs[i-1])\n"
   ]
  }
 ],
 "metadata": {
  "kernelspec": {
   "display_name": "mace",
   "language": "python",
   "name": "python3"
  },
  "language_info": {
   "codemirror_mode": {
    "name": "ipython",
    "version": 3
   },
   "file_extension": ".py",
   "mimetype": "text/x-python",
   "name": "python",
   "nbconvert_exporter": "python",
   "pygments_lexer": "ipython3",
   "version": "3.10.13"
  }
 },
 "nbformat": 4,
 "nbformat_minor": 2
}
