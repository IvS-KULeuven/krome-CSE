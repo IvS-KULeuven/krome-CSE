{
 "cells": [
  {
   "cell_type": "code",
   "execution_count": 1,
   "metadata": {},
   "outputs": [],
   "source": [
    "import numpy as np\n",
    "import sys\n",
    "\n",
    "sys.path.insert(1, '/STER/silkem/MACE/')\n",
    "import src.mace.CSE_0D.dataset      as ds\n",
    "import src.mace.utils               as utils\n",
    " \n",
    "specs_dict, idx_specs = utils.get_specs()\n",
    "\n",
    "\n",
    "loc = '/STER/silkem/kromeCSE/data/'\n",
    "\n",
    "%reload_ext autoreload\n",
    "%autoreload 2"
   ]
  },
  {
   "cell_type": "code",
   "execution_count": 2,
   "metadata": {},
   "outputs": [],
   "source": [
    "def write_input(loc, name, i, dens, temp, delta, Av, tfin, tstart):\n",
    "    with open(f\"{loc}{name}/input/{i}.in\", \"w\") as file:\n",
    "                file.write(f\"\"\"DN = {dens}\n",
    "TEMP = {temp}\n",
    "RAD = {delta}\n",
    "AV = {Av}\n",
    "TFINAL = {tfin}\n",
    "TSTART = {tstart}\n",
    "FPARENTS = '{loc}{name}/abs/abs_{i}.txt'\n",
    "FOUT = '{loc}{name}/abs/abs_{i+1}.txt'\n",
    "dir = '{loc}{name}/out/k{i}.txt'\n",
    "idx = '{i}'\n",
    "\"\"\"\n",
    ")\n",
    "\n",
    "# def write_abs(loc, path, i, abs):\n",
    "#     # with open(f\"{loc}out/{path}/time.out\", \"w\") as file:\n",
    "#     #     file.write('')\n",
    "#     with open(f\"{loc}rates/{path}/CSEcode/abs_{i}.txt\", \"w\") as file:\n",
    "#         for j in range(len(abs)):\n",
    "#             file.write(f\"{idx_specs[j]} {abs[j]}\\n\")"
   ]
  },
  {
   "cell_type": "code",
   "execution_count": 2,
   "metadata": {},
   "outputs": [],
   "source": [
    "# path = '/lhome/silkem/CHEM/Output_nov2022/20211014_gridC_Mdot1e-6_v12-5_T_eps/models/model_2022-12-23h11-00-25/csfrac_smooth.out'\n",
    "# path = '/lhome/silkem/CHEM/Output_nov2022/20211015_gridC_Mdot1e-6_v17-5_T_eps/models/model_2022-12-24h17-06-51/csfrac_smooth.out'\n",
    "\n",
    "path = '/STER/silkem/CSEchem/20211015_gridC_Mdot1e-6_v17-5_T_eps/models/model_2022-12-24h17-06-51/csfrac_smooth.out'\n",
    "\n",
    "# path = '/lhome/silkem/CHEM/Output_nov2022/20211014_gridC_Mdot2e-8_v2-5_T_eps/models/model_2022-12-26h16-02-06/csfrac_smooth.out'\n",
    "\n",
    "# path = '/lhome/silkem/CHEM/Output_nov2022/20210527_gridC_Mdot5e-5_v22-5_T_eps/models/model_2022-12-27h11-01-25/csfrac_smooth.out'"
   ]
  },
  {
   "cell_type": "code",
   "execution_count": 28,
   "metadata": {},
   "outputs": [
    {
     "data": {
      "text/plain": [
       "'/STER/silkem/CSEchem/20211015_gridC_Mdot1e-6_v17-5_T_eps/models/model_2022-12-24h17-06-51'"
      ]
     },
     "execution_count": 28,
     "metadata": {},
     "output_type": "execute_result"
    }
   ],
   "source": [
    "path[:-18]"
   ]
  },
  {
   "cell_type": "code",
   "execution_count": 9,
   "metadata": {},
   "outputs": [],
   "source": [
    "\n",
    "# physpath = '/lhome/silkem/CHEM/Output_nov2022/20211015_gridC_Mdot1e-6_v17-5_T_eps/models/model_2022-12-24h17-06-51/csphyspar_smooth.out'\n",
    "\n",
    "physpath = '/STER/silkem/CSEchem/20211015_gridC_Mdot1e-6_v17-5_T_eps/models/model_2022-12-24h17-06-51/csphyspar_smooth.out'\n",
    "\n",
    "\n",
    "\n",
    "arr = np.loadtxt(physpath, skiprows=4, usecols=(3,4, 5, 8))\n",
    "Av, rad, kC, kCO = arr[:,0], arr[:,1], arr[:,2], arr[:,3]"
   ]
  },
  {
   "cell_type": "code",
   "execution_count": 10,
   "metadata": {},
   "outputs": [
    {
     "data": {
      "text/plain": [
       "(8.163e-13, 1.219e-10, 0.5439, 0.3779)"
      ]
     },
     "execution_count": 10,
     "metadata": {},
     "output_type": "execute_result"
    }
   ],
   "source": [
    "i = 59\n",
    "\n",
    "kCO[i], kC[i], Av[i], rad[i]"
   ]
  },
  {
   "cell_type": "code",
   "execution_count": 11,
   "metadata": {},
   "outputs": [],
   "source": [
    "def photodissociation_rate(α, γ, δ, Av):\n",
    "    '''\n",
    "    For the following reaction type: PH\n",
    "\n",
    "    Photodissociation reaction rate:\n",
    "        - α = speed/probability of reaction\n",
    "        - γ\n",
    "\n",
    "    Physical parameters (input model):\n",
    "        - δ = outward dilution of the radiation field\n",
    "        - Av = species-specific extinction (connected to optical depth)\n",
    "    '''\n",
    "    k = α * δ * np.exp(-γ * Av)\n",
    "    return k"
   ]
  },
  {
   "cell_type": "code",
   "execution_count": 12,
   "metadata": {},
   "outputs": [
    {
     "data": {
      "text/plain": [
       "1.711137566426963e-11"
      ]
     },
     "execution_count": 12,
     "metadata": {},
     "output_type": "execute_result"
    }
   ],
   "source": [
    "# 5827:PH:C:PHOTON:C+:e-:::1:3.50e-10:0.00:3.76 \n",
    "a = 3.50e-10\n",
    "g = 3.76 \n",
    "\n",
    "i = 59\n",
    "\n",
    "rate = photodissociation_rate(a,g,rad[i], Av[i])\n",
    "rate"
   ]
  },
  {
   "cell_type": "code",
   "execution_count": 31,
   "metadata": {},
   "outputs": [
    {
     "name": "stdout",
     "output_type": "stream",
     "text": [
      "20211015_gridC_Mdot1e-6_v17-5_T_eps_model_2022-12-24h17-06-51\n"
     ]
    },
    {
     "data": {
      "text/plain": [
       "'/STER/silkem/kromeCSE/data/20211015_gridC_Mdot1e-6_v17-5_T_eps_model_2022-12-24h17-06-51/out/'"
      ]
     },
     "execution_count": 31,
     "metadata": {},
     "output_type": "execute_result"
    }
   ],
   "source": [
    "\n",
    "# /STER/silkem/CSEchem/20211015_gridC_Mdot1e-6_v17-5_T_eps/models/inputChemistry_model_2022-12-24h17-06-51.txt\n",
    "\n",
    "\n",
    "\n",
    "mod = ds.CSEmod(path, chempy=True)\n",
    "# mod.get_path(), mod.get_name(), mod.model\n",
    "name = mod.model+'_'+mod.get_name()\n",
    "print(name)\n",
    "\n",
    "dens, temp, delta, Av = mod.get_phys()\n",
    "dt = mod.get_dt()\n",
    "abs = mod.get_abs()\n",
    "\n",
    "# print(abs)\n",
    "\n",
    "i = 0\n",
    "# print(dens[i], temp[i], delta[i], Av[i], dt[0], abs[0].shape)\n",
    "utils.makeOutputDir(loc+name+'/')\n",
    "\n",
    "utils.makeOutputDir(loc+name+'/input/')\n",
    "utils.makeOutputDir(loc+name+'/abs/')\n",
    "utils.makeOutputDir(loc+name+'/out/')\n",
    "\n",
    "\n",
    "# for i in range(1,len(dt)):\n",
    "#     write_input(loc, name, i, dens[i-1], temp[i-1], delta[i-1], Av[i-1], dt[i], dt[i-1])\n",
    "\n",
    "    # write_abs(loc, name, i, abs[i-1])\n"
   ]
  }
 ],
 "metadata": {
  "kernelspec": {
   "display_name": "mace",
   "language": "python",
   "name": "python3"
  },
  "language_info": {
   "codemirror_mode": {
    "name": "ipython",
    "version": 3
   },
   "file_extension": ".py",
   "mimetype": "text/x-python",
   "name": "python",
   "nbconvert_exporter": "python",
   "pygments_lexer": "ipython3",
   "version": "3.10.13"
  }
 },
 "nbformat": 4,
 "nbformat_minor": 2
}
