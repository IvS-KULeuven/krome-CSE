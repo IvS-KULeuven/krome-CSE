{
 "cells": [
  {
   "cell_type": "code",
   "execution_count": 1,
   "metadata": {},
   "outputs": [],
   "source": [
    "import numpy                as np\n",
    "from os                     import listdir\n",
    "import matplotlib.pyplot    as plt\n",
    "import matplotlib           as mpl\n",
    "import matplotlib.lines     as mlines\n",
    "from natsort                import natsorted\n",
    "import os\n",
    "import json\n",
    "\n",
    "from matplotlib             import rcParams, rc\n",
    "rcParams.update({'figure.dpi': 200})\n",
    "rc('font', family='serif')\n",
    "rc('text', usetex=True)\n",
    "\n",
    "import warnings\n",
    "warnings.filterwarnings(\"ignore\")\n",
    "\n",
    "import sys\n",
    "sys.path.append('/STER/silkem/MACE/')\n",
    "import src.mace.utils as utils\n",
    "import src.mace.CSE_0D.dataset as ds \n",
    "\n",
    "from matplotlib             import rcParams, rc\n",
    "rcParams.update({'figure.dpi': 200})\n",
    "\n",
    "\n",
    "def makeOutputDir(path):\n",
    "    if not os.path.exists(path):\n",
    "        os.mkdir(path)\n",
    "    return path\n",
    "\n",
    "specs_dict, idx_specs = utils.get_specs()\n",
    "\n",
    "\n",
    "def get_time(dt, idx):\n",
    "    t = np.zeros(len(dt))\n",
    "    t[0] = CSEmodel.time[idx]\n",
    "    for i in range(0,len(t)-1):\n",
    "        t[i+1] = (dt[i]+t[i])\n",
    "        \n",
    "    return np.array(t)"
   ]
  },
  {
   "cell_type": "code",
   "execution_count": null,
   "metadata": {},
   "outputs": [],
   "source": [
    "path = ''\n",
    "\n",
    "CSEmod = ds.CSEmod(path)"
   ]
  }
 ],
 "metadata": {
  "kernelspec": {
   "display_name": "mace",
   "language": "python",
   "name": "python3"
  },
  "language_info": {
   "codemirror_mode": {
    "name": "ipython",
    "version": 3
   },
   "file_extension": ".py",
   "mimetype": "text/x-python",
   "name": "python",
   "nbconvert_exporter": "python",
   "pygments_lexer": "ipython3",
   "version": "3.10.13"
  }
 },
 "nbformat": 4,
 "nbformat_minor": 2
}
